{
 "cells": [
  {
   "cell_type": "code",
   "execution_count": 1,
   "metadata": {},
   "outputs": [],
   "source": [
    "%matplotlib inline\n",
    "import os\n",
    "from glob import glob\n",
    "from collections import OrderedDict\n",
    "import xarray as xr\n",
    "import numpy as np\n",
    "# import dask\n",
    "# import dask.distributed\n",
    "# import ncar_jobqueue\n",
    "import esmlab\n",
    "import esmlab_regrid\n",
    "import matplotlib.pyplot as plt\n",
    "import cartopy\n",
    "import cartopy.crs as ccrs\n",
    "from netCDF4 import default_fillvals\n",
    "import pop_tools \n",
    "\n",
    "import config\n",
    "\n",
    "import warnings\n",
    "from datetime import date, datetime, timezone\n"
   ]
  },
  {
   "cell_type": "markdown",
   "metadata": {},
   "source": [
    "### Prep work\n",
    "set up directory with original and destination grid files in it"
   ]
  },
  {
   "cell_type": "code",
   "execution_count": 2,
   "metadata": {},
   "outputs": [
    {
     "data": {
      "text/plain": [
       "'/glade/work/kristenk/esmlab-regrid'"
      ]
     },
     "execution_count": 2,
     "metadata": {},
     "output_type": "execute_result"
    }
   ],
   "source": [
    "USER = os.environ['USER']\n",
    "gridfile_directory = esmlab.config.set({'regrid.gridfile-directory': f'/glade/work/{USER}/esmlab-regrid'})\n",
    "esmlab.config.get('regrid.gridfile-directory')"
   ]
  },
  {
   "cell_type": "code",
   "execution_count": 3,
   "metadata": {},
   "outputs": [
    {
     "name": "stdout",
     "output_type": "stream",
     "text": [
      "/glade/work/kristenk/esmlab-regrid\n",
      "/glade/work/kristenk/esmlab-regrid\n"
     ]
    }
   ],
   "source": [
    "method = 'conservative'\n",
    "src_grid = 'latlon_1x1_180W'\n",
    "dst_grid = 'POP_gx1v7'\n",
    "ltripole = False\n",
    "\n",
    "regrid_operator = esmlab_regrid.regridder(name_grid_src=src_grid, \n",
    "                                          name_grid_dst=dst_grid, \n",
    "                                          method=method, overwrite_existing=False)"
   ]
  },
  {
   "cell_type": "code",
   "execution_count": 4,
   "metadata": {},
   "outputs": [
    {
     "data": {
      "text/plain": [
       "<xarray.Dataset>\n",
       "Dimensions:      (nlat: 384, nlon: 320, z_t: 60, z_w: 60, z_w_bot: 60)\n",
       "Coordinates:\n",
       "  * z_t          (z_t) float64 500.0 1.5e+03 2.5e+03 ... 5.125e+05 5.375e+05\n",
       "  * z_w          (z_w) float64 0.0 1e+03 2e+03 3e+03 ... 4.75e+05 5e+05 5.25e+05\n",
       "  * z_w_bot      (z_w_bot) float64 1e+03 2e+03 3e+03 ... 5e+05 5.25e+05 5.5e+05\n",
       "Dimensions without coordinates: nlat, nlon\n",
       "Data variables:\n",
       "    TLAT         (nlat, nlon) float64 -79.22 -79.22 -79.22 ... 72.2 72.19 72.19\n",
       "    TLONG        (nlat, nlon) float64 320.6 321.7 322.8 ... 318.9 319.4 319.8\n",
       "    ULAT         (nlat, nlon) float64 -78.95 -78.95 -78.95 ... 72.42 72.41 72.41\n",
       "    ULONG        (nlat, nlon) float64 321.1 322.3 323.4 ... 319.2 319.6 320.0\n",
       "    DXT          (nlat, nlon) float64 2.339e+06 2.339e+06 ... 1.473e+06\n",
       "    DYT          (nlat, nlon) float64 5.94e+06 5.94e+06 ... 5.046e+06 5.046e+06\n",
       "    TAREA        (nlat, nlon) float64 1.39e+13 1.39e+13 ... 7.431e+12 7.432e+12\n",
       "    KMT          (nlat, nlon) int32 0 0 0 0 0 0 0 0 0 0 ... 0 0 0 0 0 0 0 0 0 0\n",
       "    REGION_MASK  (nlat, nlon) int32 0 0 0 0 0 0 0 0 0 0 ... 0 0 0 0 0 0 0 0 0 0\n",
       "    dz           (z_t) float64 1e+03 1e+03 1e+03 ... 2.499e+04 2.5e+04 2.5e+04\n",
       "Attributes:\n",
       "    lateral_dims:         [384, 320]\n",
       "    vertical_dims:        60\n",
       "    vert_grid_file:       /glade/work/kristenk/miniconda/envs/analysis2/lib/p...\n",
       "    horiz_grid_fname:     /glade/p/cesmdata/cseg/inputdata/ocn/pop/gx1v7/grid...\n",
       "    topography_fname:     /glade/p/cesmdata/cseg/inputdata/ocn/pop/gx1v7/grid...\n",
       "    region_mask_fname:    /glade/p/cesmdata/cseg/inputdata/ocn/pop/gx1v7/grid...\n",
       "    type:                 dipole\n",
       "    region_mask_regions:  {'Black Sea': -13, 'Baltic Sea': -12, 'Red Sea': -5...\n",
       "    title:                POP_gx1v7 grid"
      ]
     },
     "execution_count": 4,
     "metadata": {},
     "output_type": "execute_result"
    }
   ],
   "source": [
    "ds_dst = pop_tools.get_grid(grid_name=dst_grid)\n",
    "ds_dst"
   ]
  },
  {
   "cell_type": "markdown",
   "metadata": {},
   "source": [
    "### Define a dictionary to translate variable names from GLODAP to POP and set up file paths"
   ]
  },
  {
   "cell_type": "code",
   "execution_count": 5,
   "metadata": {},
   "outputs": [],
   "source": [
    "glodap_pth = '/glade/work/kristenk/GLODAPv2_regridded/*.nc'\n",
    "pop_to_glodap_vars = {'ALK': 'TAlk'} #,'NO3':'NO3',} #just doing ALK for now.... "
   ]
  },
  {
   "cell_type": "code",
   "execution_count": 6,
   "metadata": {},
   "outputs": [],
   "source": [
    "glodap_to_pop_vars = {glodap: pop for pop, glodap in pop_to_glodap_vars.items()}"
   ]
  },
  {
   "cell_type": "markdown",
   "metadata": {},
   "source": [
    "### Use the function to get GLODAP data"
   ]
  },
  {
   "cell_type": "code",
   "execution_count": 7,
   "metadata": {},
   "outputs": [
    {
     "data": {
      "text/plain": [
       "<xarray.Dataset>\n",
       "Dimensions:  (depth: 33, lat: 180, lon: 360)\n",
       "Coordinates:\n",
       "  * lon      (lon) float64 -179.5 -178.5 -177.5 -176.5 ... 177.5 178.5 179.5\n",
       "  * lat      (lat) float64 -89.5 -88.5 -87.5 -86.5 -85.5 ... 86.5 87.5 88.5 89.5\n",
       "  * depth    (depth) float64 0.0 10.0 20.0 30.0 ... 4e+03 4.5e+03 5e+03 5.5e+03\n",
       "Data variables:\n",
       "    ALK      (depth, lat, lon) float32 ...\n",
       "Attributes:\n",
       "    Conventions:  COARDS/CF-1.0\n",
       "    title:        tmp2.nc\n",
       "    history:      grdmath tmp2.nc land_mask1deg.nc OR = CESM1-BGC_Jan1850_tos.nc\n",
       "    GMT_version:  4.5.12 [64-bit]\n",
       "    node_offset:  1"
      ]
     },
     "execution_count": 7,
     "metadata": {},
     "output_type": "execute_result"
    }
   ],
   "source": [
    "ds_glodap = xr.open_dataset('/glade/work/kristenk/GLODAPv2_regridded/TAlk_GLODAP_normal1deg_33depths.nc',decode_times=False,decode_coords=False)\n",
    "#ds_glodap = xr.open_mfdataset('/glade/work/kristenk/GLODAPv2_regridded/*.nc',decode_times=False,decode_coords=False)\n",
    "ds_glodap = ds_glodap.rename({k: v for k, v in glodap_to_pop_vars.items() if k in ds_glodap.data_vars})\n",
    "ds_glodap = ds_glodap.drop('TAlkInput_mean')\n",
    "ds_glodap = ds_glodap.rename({'depth_surface': 'depth'})\n",
    "ds_glodap"
   ]
  },
  {
   "cell_type": "code",
   "execution_count": 8,
   "metadata": {},
   "outputs": [
    {
     "data": {
      "text/plain": [
       "OrderedDict([('long_name', 'total alkalinity'), ('units', 'micromol kg-1')])"
      ]
     },
     "execution_count": 8,
     "metadata": {},
     "output_type": "execute_result"
    }
   ],
   "source": [
    "ds_glodap['ALK'].attrs"
   ]
  },
  {
   "cell_type": "code",
   "execution_count": 9,
   "metadata": {},
   "outputs": [],
   "source": [
    "varlist = ['ALK']"
   ]
  },
  {
   "cell_type": "code",
   "execution_count": 10,
   "metadata": {},
   "outputs": [],
   "source": [
    "for pop_varname in varlist:\n",
    "    attrs = ds_glodap[pop_varname].attrs\n",
    "    \n",
    "    if pop_varname == 'ALK' and attrs['units'] == 'micromol kg-1':\n",
    "        ds_glodap[pop_varname] = ds_glodap[pop_varname] * 1.027 #convert from micromol/kg to mmol/m3\n",
    "        attrs['units'] = 'mmol/m^3'\n",
    "        \n",
    "    ds_glodap[pop_varname].attrs = attrs"
   ]
  },
  {
   "cell_type": "markdown",
   "metadata": {},
   "source": [
    "### Regrid laterally"
   ]
  },
  {
   "cell_type": "code",
   "execution_count": null,
   "metadata": {},
   "outputs": [
    {
     "name": "stderr",
     "output_type": "stream",
     "text": [
      "/glade/work/kristenk/miniconda/envs/analysis2/lib/python3.7/site-packages/esmlab_regrid/core.py:203: RuntimeWarning: invalid value encountered in greater\n",
      "  data_dst = np.where(ones_dst > 0.0, data_dst, np.nan)\n"
     ]
    }
   ],
   "source": [
    "dso_lateral = xr.Dataset()\n",
    "for v in varlist:\n",
    "    dso_lateral[v] = regrid_operator(ds_glodap[v], renormalize=True)  #, apply_mask=True) #commented out apply_mask (get an error)\n",
    "    dso_lateral[v].attrs = ds_glodap[v].attrs\n",
    "\n",
    "dso_lateral = dso_lateral.rename({'lon': 'nlon', 'lat': 'nlat'})\n",
    "\n",
    "dso_lateral.depth.data = dso_lateral.depth.data * 1e2\n",
    "dso_lateral.depth.attrs['units'] = 'cm'\n",
    "\n",
    "plt.figure()\n",
    "ds_glodap[varlist[0]].isel(depth=0).plot()\n",
    "\n",
    "plt.figure()\n",
    "dso_lateral[varlist[0]].isel(depth=0).plot();"
   ]
  },
  {
   "cell_type": "code",
   "execution_count": null,
   "metadata": {},
   "outputs": [],
   "source": [
    "dso_lateral"
   ]
  },
  {
   "cell_type": "code",
   "execution_count": null,
   "metadata": {},
   "outputs": [],
   "source": [
    "dso_lateral.depth"
   ]
  },
  {
   "cell_type": "code",
   "execution_count": null,
   "metadata": {},
   "outputs": [],
   "source": [
    "ds_dst.z_t"
   ]
  },
  {
   "cell_type": "markdown",
   "metadata": {},
   "source": [
    "### Regrid vertically"
   ]
  },
  {
   "cell_type": "code",
   "execution_count": null,
   "metadata": {},
   "outputs": [],
   "source": [
    "dso_lat_vert = xr.Dataset()\n",
    "\n",
    "dim = 'depth'\n",
    "new_coord = ds_dst.z_t\n",
    "for v in varlist:\n",
    "    da = dso_lateral[v]\n",
    "    dso_lat_vert[v] = da.interp(coords={dim: new_coord},\n",
    "                                method='linear',\n",
    "                                assume_sorted=True,\n",
    "                                kwargs={'bounds_error': False})\n",
    "    dso_lat_vert[v] = xr.where(np.isclose(dso_lat_vert[v], 0., atol=1e-10), 0., \n",
    "                               dso_lat_vert[v])\n",
    "    dso_lat_vert[v].attrs = dso_lateral[v].attrs\n",
    "    \n",
    "dso_lat_vert = dso_lat_vert.drop([dim])\n",
    "dso_lat_vert"
   ]
  },
  {
   "cell_type": "code",
   "execution_count": null,
   "metadata": {},
   "outputs": [],
   "source": [
    "#just double check that the vertical interpolation worked\n",
    "diff = dso_lat_vert.ALK.isel(z_t=0) - dso_lateral.ALK.isel(depth=slice(0,2)).mean(dim='depth')\n",
    "diff.plot(vmin=-2,vmax=2,cmap='bwr')"
   ]
  },
  {
   "cell_type": "code",
   "execution_count": null,
   "metadata": {},
   "outputs": [],
   "source": [
    "plt.figure()\n",
    "dso_lateral[varlist[-1]].isel(depth=0).plot()\n",
    "\n",
    "plt.figure()\n",
    "dso_lat_vert[varlist[-1]].isel(z_t=0).plot();"
   ]
  },
  {
   "cell_type": "markdown",
   "metadata": {},
   "source": [
    "### Apply missing values mask to the newly interpolated data\n",
    "First make a mask"
   ]
  },
  {
   "cell_type": "code",
   "execution_count": null,
   "metadata": {},
   "outputs": [],
   "source": [
    "nk = len(ds_dst.z_t)\n",
    "nj, ni = ds_dst.KMT.shape\n",
    "\n",
    "# make 3D array of 0:km\n",
    "zero_to_km = xr.DataArray(np.arange(0, nk), dims=('z_t'))\n",
    "ONES_3d = xr.DataArray(np.ones((nk, nj, ni)), dims=('z_t', 'nlat', 'nlon'))\n",
    "ZERO_TO_KM = (zero_to_km * ONES_3d)\n",
    "\n",
    "# mask out cells where k is below KMT\n",
    "MASK = ZERO_TO_KM.where(ZERO_TO_KM < ds_dst.KMT)\n",
    "MASK = xr.where(MASK.notnull(), True, False)\n",
    "\n",
    "MASK['z_t'] = ds_dst.z_t\n",
    "\n",
    "plt.figure()\n",
    "MASK.isel(z_t=0).plot()\n",
    "h = plt.title('Surface mask')\n",
    "\n",
    "plt.figure()\n",
    "MASK.isel(nlon=200).plot(yincrease=False)\n",
    "h = plt.title('Pacific transect')\n"
   ]
  },
  {
   "cell_type": "markdown",
   "metadata": {},
   "source": [
    "Then apply the mask"
   ]
  },
  {
   "cell_type": "code",
   "execution_count": null,
   "metadata": {},
   "outputs": [],
   "source": [
    "for v in varlist:   \n",
    "    dso_lat_vert[v] = dso_lat_vert[v].where(MASK)"
   ]
  },
  {
   "cell_type": "code",
   "execution_count": null,
   "metadata": {},
   "outputs": [],
   "source": [
    "plt.figure()\n",
    "dso_lat_vert[varlist[0]].isel(z_t=0).plot()\n",
    "\n",
    "plt.figure()\n",
    "dso_lat_vert[varlist[0]].isel(nlon=200).plot(yincrease=False)\n",
    "h = plt.title('Pacific transect')"
   ]
  },
  {
   "cell_type": "markdown",
   "metadata": {},
   "source": [
    "### Lateral smoothing operation"
   ]
  },
  {
   "cell_type": "code",
   "execution_count": null,
   "metadata": {},
   "outputs": [],
   "source": [
    "# loop over variables\n",
    "dso_smooth = xr.Dataset()\n",
    "for v in varlist:    \n",
    "    \n",
    "    # apply lateral smooth\n",
    "    dso_smooth[v] = pop_tools.lateral_fill(dso_lat_vert[v].copy(), MASK, ltripole=ltripole)\n",
    "    dso_smooth[v].attrs = dso_lat_vert[v].attrs\n",
    "    \n",
    "    # perform vertical fill if necessary\n",
    "    unfilled = dso_smooth[v].isnull() & (MASK == 1.)                    \n",
    "    if not unfilled.any():\n",
    "        continue   \n",
    "    for k in range(1, ds_dst.z_t.shape[0]):\n",
    "        dso_smooth[v][k, :, :] = xr.where(unfilled[k, :, :], \n",
    "                                          dso_smooth[v][k-1, :, :], \n",
    "                                          dso_smooth[v][k, :, :])\n",
    "        \n",
    "    if (dso_smooth[v].isnull() & (MASK == 1.)).any():\n",
    "        warnings.warn(f'{v} still has missing values')\n",
    "    \n",
    "dso_smooth"
   ]
  },
  {
   "cell_type": "code",
   "execution_count": null,
   "metadata": {},
   "outputs": [],
   "source": [
    "dso_smooth.ALK.isel(z_t=0).plot() # I don't think I'll use this since there's data where there were nans in glodap"
   ]
  },
  {
   "cell_type": "markdown",
   "metadata": {},
   "source": [
    "### Get the dataset ready to write out"
   ]
  },
  {
   "cell_type": "code",
   "execution_count": null,
   "metadata": {},
   "outputs": [],
   "source": [
    "#dso = dso_smooth.copy()\n",
    "dso = dso_lat_vert.copy()\n",
    "for v in dso.variables:\n",
    "    dso[v].encoding['_FillValue'] = default_fillvals['f4']\n",
    "    dso[v].encoding['dtype'] = np.float32\n",
    "    if dso.ALK.dims == {'z_t', 'nlat', 'nlon'}:\n",
    "        dso[v].attrs['coordinates'] = 'TLONG TLAT z_t'\n",
    "    \n",
    "for v in ds_dst.variables:\n",
    "    dso[v] = ds_dst[v]\n",
    "    \n",
    "for v in dso.variables:\n",
    "    if '_FillValue' not in dso[v].encoding:\n",
    "        dso[v].encoding['_FillValue'] = None\n",
    "    \n",
    "datestamp = datetime.now(timezone.utc).strftime(\"%Y-%m-%d\")\n",
    "dso.attrs['history'] = f'created by kristen krumhardt on {datestamp}'\n",
    "\n",
    "datestamp = date.today().strftime(\"%y%m%d\")\n",
    "dso"
   ]
  },
  {
   "cell_type": "code",
   "execution_count": null,
   "metadata": {},
   "outputs": [],
   "source": [
    "file_out = '/glade/work/kristenk/GLODAPv2_regridded/glodap_pop_grid/GLODAP_POPgrid_v2.nc'\n",
    "dso.to_netcdf(file_out)"
   ]
  },
  {
   "cell_type": "code",
   "execution_count": null,
   "metadata": {},
   "outputs": [],
   "source": []
  }
 ],
 "metadata": {
  "kernelspec": {
   "display_name": "Python [conda env:miniconda-analysis2]",
   "language": "python",
   "name": "conda-env-miniconda-analysis2-py"
  },
  "language_info": {
   "codemirror_mode": {
    "name": "ipython",
    "version": 3
   },
   "file_extension": ".py",
   "mimetype": "text/x-python",
   "name": "python",
   "nbconvert_exporter": "python",
   "pygments_lexer": "ipython3",
   "version": "3.7.3"
  }
 },
 "nbformat": 4,
 "nbformat_minor": 4
}
