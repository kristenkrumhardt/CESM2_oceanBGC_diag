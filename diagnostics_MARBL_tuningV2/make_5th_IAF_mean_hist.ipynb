{
 "cells": [
  {
   "cell_type": "markdown",
   "metadata": {},
   "source": [
    "### IAF mean form "
   ]
  },
  {
   "cell_type": "code",
   "execution_count": 2,
   "metadata": {},
   "outputs": [
    {
     "name": "stderr",
     "output_type": "stream",
     "text": [
      "Cannot write to data cache folder '/glade/p/cesmdata/cseg'. Will not be able to download remote data files. Use environment variable 'CESMDATAROOT' to specify another directory.\n"
     ]
    }
   ],
   "source": [
    "import warnings\n",
    "warnings.filterwarnings('ignore')\n",
    "%matplotlib inline\n",
    "import os\n",
    "from glob import glob\n",
    "from collections import OrderedDict\n",
    "import xarray as xr\n",
    "import numpy as np\n",
    "import esmlab\n",
    "import matplotlib.pyplot as plt\n",
    "import matplotlib.gridspec as gridspec\n",
    "import cartopy\n",
    "import cartopy.crs as ccrs\n",
    "import seawater as sw\n",
    "from seawater.library import T90conv\n",
    "from scipy import stats\n",
    "import pop_tools \n",
    "\n",
    "from pint import UnitRegistry\n",
    "import utils\n",
    "import ncar_jobqueue\n",
    "from dask.distributed import Client\n",
    "\n",
    "units = UnitRegistry()\n",
    "units.define('micromoles_per_kilogram = umol / kg') # used in WOA datasets"
   ]
  },
  {
   "cell_type": "code",
   "execution_count": 3,
   "metadata": {},
   "outputs": [
    {
     "data": {
      "text/html": [
       "<table style=\"border: 2px solid white;\">\n",
       "<tr>\n",
       "<td style=\"vertical-align: top; border: 0px solid white\">\n",
       "<h3 style=\"text-align: left;\">Client</h3>\n",
       "<ul style=\"text-align: left; list-style: none; margin: 0; padding: 0;\">\n",
       "  <li><b>Scheduler: </b>tcp://10.12.205.30:44060</li>\n",
       "  <li><b>Dashboard: </b><a href='https://jupyterhub.ucar.edu/dav/user/kristenk/proxy/46501/status' target='_blank'>https://jupyterhub.ucar.edu/dav/user/kristenk/proxy/46501/status</a>\n",
       "</ul>\n",
       "</td>\n",
       "<td style=\"vertical-align: top; border: 0px solid white\">\n",
       "<h3 style=\"text-align: left;\">Cluster</h3>\n",
       "<ul style=\"text-align: left; list-style:none; margin: 0; padding: 0;\">\n",
       "  <li><b>Workers: </b>0</li>\n",
       "  <li><b>Cores: </b>0</li>\n",
       "  <li><b>Memory: </b>0 B</li>\n",
       "</ul>\n",
       "</td>\n",
       "</tr>\n",
       "</table>"
      ],
      "text/plain": [
       "<Client: 'tcp://10.12.205.30:44060' processes=0 threads=0, memory=0 B>"
      ]
     },
     "execution_count": 3,
     "metadata": {},
     "output_type": "execute_result"
    }
   ],
   "source": [
    "cluster = ncar_jobqueue.NCARCluster(project='ncgd0011')\n",
    "cluster.adapt(minimum_jobs=0, maximum_jobs=30)\n",
    "client = Client(cluster)\n",
    "client"
   ]
  },
  {
   "cell_type": "code",
   "execution_count": 4,
   "metadata": {},
   "outputs": [],
   "source": [
    "#fdas"
   ]
  },
  {
   "cell_type": "markdown",
   "metadata": {},
   "source": [
    "### MONTHLY"
   ]
  },
  {
   "cell_type": "markdown",
   "metadata": {},
   "source": [
    "#### Define CESM case and variable"
   ]
  },
  {
   "cell_type": "code",
   "execution_count": 25,
   "metadata": {},
   "outputs": [],
   "source": [
    "case = 'cesm22cocco.G1850ECOIAF.T62_g17.004'\n",
    "user = 'kristenk'\n",
    "#path = '/glade/scratch/kristenk/archive/' + case + '/ocn/proc/tseries/month_1'\n",
    "path = '/glade/campaign/cgd/oce/projects/besome/cesm-cases/' + case + '/ocn/proc/tseries/month_1'\n",
    "variables = ['calcToSed_ALT_CO2']\n",
    "#variables = ['PD']"
   ]
  },
  {
   "cell_type": "markdown",
   "metadata": {},
   "source": [
    "#### Get last IAF cycle"
   ]
  },
  {
   "cell_type": "code",
   "execution_count": 26,
   "metadata": {},
   "outputs": [
    {
     "name": "stdout",
     "output_type": "stream",
     "text": [
      "reading cesm22cocco.G1850ECOIAF.T62_g17.004\n",
      "calcToSed_ALT_CO2\n",
      "CPU times: user 130 ms, sys: 29.9 ms, total: 160 ms\n",
      "Wall time: 6.29 s\n"
     ]
    }
   ],
   "source": [
    "%%time\n",
    "ds_list = []\n",
    "print(f'reading {case}')\n",
    "ds = xr.Dataset()\n",
    "\n",
    "for v in variables:\n",
    "    \n",
    "    print(v)\n",
    "    \n",
    "    files = sorted(glob(f'{path}/{case}.pop.h.{v}.024901-031012.nc'))       \n",
    "    #files = sorted(glob(f'{path}/{case}.pop.h.{v}.018701-024812.nc'))\n",
    "    \n",
    "    \n",
    "    dsv=xr.open_mfdataset(files, data_vars=\"minimal\", coords='minimal', compat=\"override\", parallel=True, concat_dim=\"time\",\n",
    "                       drop_variables=[\"transport_components\", \"transport_regions\"], decode_times=True, chunks={'z_t' : 1})\n",
    "\n",
    "    ds = xr.merge((ds, dsv))\n",
    "    ds_list.append(ds)"
   ]
  },
  {
   "cell_type": "code",
   "execution_count": 27,
   "metadata": {},
   "outputs": [],
   "source": [
    "coords = {'x':'TLONG','y':'TLAT'}\n",
    "keepthese=['z_t','time_bound','TAREA','REGION_MASK'] + variables\n",
    "keep_vars = keepthese +list(coords.values())+['dz','KMT']\n",
    "ds = ds.drop([v for v in ds.variables if v not in keep_vars])"
   ]
  },
  {
   "cell_type": "code",
   "execution_count": 28,
   "metadata": {},
   "outputs": [
    {
     "name": "stdout",
     "output_type": "stream",
     "text": [
      "CPU times: user 316 ms, sys: 180 ms, total: 496 ms\n",
      "Wall time: 5.44 s\n"
     ]
    }
   ],
   "source": [
    "%%time \n",
    "cesm_ann_ds=ds.mean(dim='time').compute()"
   ]
  },
  {
   "cell_type": "code",
   "execution_count": 29,
   "metadata": {},
   "outputs": [],
   "source": [
    "for v in variables:\n",
    "    \n",
    "    keep_vars = ['z_t','time_bound','TAREA','time','dz','KMT', v]  + list(coords.values())\n",
    "    \n",
    "    ds_out = cesm_ann_ds.drop([v for v in cesm_ann_ds.variables if v not in keep_vars])\n",
    "    \n",
    "    #outfile='/glade/scratch/kristenk/archive/'+case+'/ocn/proc/mean4thIAF/mean_IAF4_'+v+'.nc'\n",
    "    outfile='/glade/scratch/kristenk/archive/'+case+'/ocn/proc/mean5thIAF/mean_IAF5_'+v+'.nc'\n",
    "    \n",
    "    ds_out.to_netcdf(outfile)"
   ]
  },
  {
   "cell_type": "code",
   "execution_count": null,
   "metadata": {},
   "outputs": [],
   "source": []
  },
  {
   "cell_type": "code",
   "execution_count": null,
   "metadata": {},
   "outputs": [],
   "source": []
  },
  {
   "cell_type": "code",
   "execution_count": null,
   "metadata": {},
   "outputs": [],
   "source": []
  },
  {
   "cell_type": "code",
   "execution_count": null,
   "metadata": {},
   "outputs": [],
   "source": []
  },
  {
   "cell_type": "code",
   "execution_count": null,
   "metadata": {},
   "outputs": [],
   "source": []
  },
  {
   "cell_type": "code",
   "execution_count": null,
   "metadata": {},
   "outputs": [],
   "source": []
  },
  {
   "cell_type": "code",
   "execution_count": null,
   "metadata": {},
   "outputs": [],
   "source": []
  },
  {
   "cell_type": "code",
   "execution_count": null,
   "metadata": {},
   "outputs": [],
   "source": []
  },
  {
   "cell_type": "code",
   "execution_count": null,
   "metadata": {},
   "outputs": [],
   "source": []
  },
  {
   "cell_type": "code",
   "execution_count": null,
   "metadata": {},
   "outputs": [],
   "source": []
  },
  {
   "cell_type": "code",
   "execution_count": 8,
   "metadata": {},
   "outputs": [],
   "source": [
    "# v = variables[0]\n",
    "# outfile='/glade/scratch/kristenk/archive/'+case+'/ocn/proc/mean5thIAF/mean_IAF5_'+v+'.nc'\n",
    "# cesm_ann_ds.to_netcdf(outfile)"
   ]
  },
  {
   "cell_type": "code",
   "execution_count": 14,
   "metadata": {},
   "outputs": [],
   "source": [
    "# for v in variables:\n",
    "#     outfile='/glade/scratch/kristenk/archive/'+case+'/ocn/proc/mean5thIAF/mean_IAF5_'+v+'.nc'\n",
    "#     cesm_ann_ds[v].to_netcdf(outfile)"
   ]
  },
  {
   "cell_type": "markdown",
   "metadata": {},
   "source": [
    "### ANNUAL"
   ]
  },
  {
   "cell_type": "code",
   "execution_count": 43,
   "metadata": {},
   "outputs": [],
   "source": [
    "case = 'cesm22cocco.G1850ECOIAF.T62_g17.010'\n",
    "#path = '/glade/scratch/kristenk/archive/' + case + '/ocn/proc/tseries/year_1'\n",
    "path = '/glade/campaign/cgd/oce/projects/besome/cesm-cases/' + case + '/ocn/proc/tseries/year_1'\n",
    "variables = ['CaCO3_ALT_CO2_FLUX_IN']"
   ]
  },
  {
   "cell_type": "code",
   "execution_count": 44,
   "metadata": {},
   "outputs": [
    {
     "name": "stdout",
     "output_type": "stream",
     "text": [
      "reading cesm22cocco.G1850ECOIAF.T62_g17.010\n",
      "CaCO3_ALT_CO2_FLUX_IN\n",
      "CPU times: user 463 ms, sys: 109 ms, total: 572 ms\n",
      "Wall time: 31.8 s\n"
     ]
    }
   ],
   "source": [
    "%%time\n",
    "\n",
    "ds_list = []\n",
    "\n",
    "print(f'reading {case}')\n",
    "\n",
    "ds = xr.Dataset()\n",
    "\n",
    "for v in variables:\n",
    "    \n",
    "    print(v)\n",
    "    \n",
    "    files = sorted(glob(f'{path}/{case}.pop.h.ecosys.nyear1.{v}.0249-0310.nc'))\n",
    "\n",
    "    dsv=xr.open_mfdataset(files, data_vars=\"minimal\", coords='minimal', compat=\"override\", parallel=True, concat_dim=\"time\",\n",
    "                       drop_variables=[\"transport_components\", \"transport_regions\"], decode_times=True)\n",
    "\n",
    "    \n",
    "    ds = xr.merge((ds, dsv))\n",
    "    ds_list.append(ds)"
   ]
  },
  {
   "cell_type": "code",
   "execution_count": 45,
   "metadata": {},
   "outputs": [],
   "source": [
    "coords = {'x':'TLONG','y':'TLAT'}\n",
    "keepthese=['z_t','z_t_150m','time_bound','TAREA','REGION_MASK'] + variables\n",
    "keep_vars = keepthese +list(coords.values())+['dz','KMT']\n",
    "ds = ds.drop([v for v in ds.variables if v not in keep_vars])"
   ]
  },
  {
   "cell_type": "code",
   "execution_count": 46,
   "metadata": {},
   "outputs": [],
   "source": [
    "ds=ds.mean(dim='time')"
   ]
  },
  {
   "cell_type": "code",
   "execution_count": 47,
   "metadata": {},
   "outputs": [],
   "source": [
    "for v in variables:\n",
    "        outfile='/glade/scratch/kristenk/archive/'+case+'/ocn/proc/mean5thIAF/mean_IAF5_'+v+'.nc'\n",
    "        ds[v].to_netcdf(outfile)"
   ]
  },
  {
   "cell_type": "code",
   "execution_count": null,
   "metadata": {},
   "outputs": [],
   "source": []
  },
  {
   "cell_type": "code",
   "execution_count": null,
   "metadata": {},
   "outputs": [],
   "source": []
  },
  {
   "cell_type": "code",
   "execution_count": null,
   "metadata": {},
   "outputs": [],
   "source": []
  },
  {
   "cell_type": "code",
   "execution_count": null,
   "metadata": {},
   "outputs": [],
   "source": []
  },
  {
   "cell_type": "code",
   "execution_count": null,
   "metadata": {},
   "outputs": [],
   "source": []
  },
  {
   "cell_type": "code",
   "execution_count": null,
   "metadata": {},
   "outputs": [],
   "source": []
  },
  {
   "cell_type": "code",
   "execution_count": null,
   "metadata": {},
   "outputs": [],
   "source": []
  },
  {
   "cell_type": "code",
   "execution_count": null,
   "metadata": {},
   "outputs": [],
   "source": []
  }
 ],
 "metadata": {
  "kernelspec": {
   "display_name": "Python [conda env:miniconda-besome]",
   "language": "python",
   "name": "conda-env-miniconda-besome-py"
  },
  "language_info": {
   "codemirror_mode": {
    "name": "ipython",
    "version": 3
   },
   "file_extension": ".py",
   "mimetype": "text/x-python",
   "name": "python",
   "nbconvert_exporter": "python",
   "pygments_lexer": "ipython3",
   "version": "3.7.6"
  }
 },
 "nbformat": 4,
 "nbformat_minor": 4
}
