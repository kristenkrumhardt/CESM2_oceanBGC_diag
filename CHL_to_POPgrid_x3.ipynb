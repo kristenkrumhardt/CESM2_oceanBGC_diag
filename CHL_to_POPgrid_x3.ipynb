{
 "cells": [
  {
   "cell_type": "code",
   "execution_count": 1,
   "metadata": {},
   "outputs": [],
   "source": [
    "%matplotlib inline\n",
    "import os\n",
    "from glob import glob\n",
    "from collections import OrderedDict\n",
    "import xarray as xr\n",
    "import numpy as np\n",
    "# import dask\n",
    "# import dask.distributed\n",
    "# import ncar_jobqueue\n",
    "import esmlab\n",
    "import esmlab_regrid\n",
    "import matplotlib.pyplot as plt\n",
    "import cartopy\n",
    "import cartopy.crs as ccrs\n",
    "from netCDF4 import default_fillvals\n",
    "import pop_tools \n",
    "\n",
    "import config\n",
    "\n",
    "import warnings\n",
    "from datetime import date, datetime, timezone\n"
   ]
  },
  {
   "cell_type": "markdown",
   "metadata": {},
   "source": [
    "### Prep work\n",
    "set up directory with original and destination grid files in it"
   ]
  },
  {
   "cell_type": "code",
   "execution_count": 2,
   "metadata": {},
   "outputs": [
    {
     "data": {
      "text/plain": [
       "'/glade/work/kristenk/esmlab-regrid'"
      ]
     },
     "execution_count": 2,
     "metadata": {},
     "output_type": "execute_result"
    }
   ],
   "source": [
    "USER = os.environ['USER']\n",
    "gridfile_directory = esmlab.config.set({'regrid.gridfile-directory': f'/glade/work/{USER}/esmlab-regrid'})\n",
    "esmlab.config.get('regrid.gridfile-directory')"
   ]
  },
  {
   "cell_type": "code",
   "execution_count": 3,
   "metadata": {},
   "outputs": [
    {
     "name": "stdout",
     "output_type": "stream",
     "text": [
      "/glade/work/kristenk/esmlab-regrid\n",
      "/glade/work/kristenk/esmlab-regrid\n"
     ]
    }
   ],
   "source": [
    "method = 'conservative'\n",
    "src_grid = 'latlon_1x1_180W'\n",
    "dst_grid = 'POP_gx3v7'\n",
    "ltripole = False\n",
    "\n",
    "regrid_operator = esmlab_regrid.regridder(name_grid_src=src_grid, \n",
    "                                          name_grid_dst=dst_grid, \n",
    "                                          method=method, overwrite_existing=False)"
   ]
  },
  {
   "cell_type": "code",
   "execution_count": 4,
   "metadata": {},
   "outputs": [
    {
     "data": {
      "text/plain": [
       "<xarray.Dataset>\n",
       "Dimensions:      (nlat: 116, nlon: 100, z_t: 60, z_w: 60, z_w_bot: 60)\n",
       "Coordinates:\n",
       "  * z_t          (z_t) float64 500.0 1.5e+03 2.5e+03 ... 5.125e+05 5.375e+05\n",
       "  * z_w          (z_w) float64 0.0 1e+03 2e+03 3e+03 ... 4.75e+05 5e+05 5.25e+05\n",
       "  * z_w_bot      (z_w_bot) float64 1e+03 2e+03 3e+03 ... 5e+05 5.25e+05 5.5e+05\n",
       "Dimensions without coordinates: nlat, nlon\n",
       "Data variables:\n",
       "    TLAT         (nlat, nlon) float64 -79.5 -79.5 -79.5 ... 68.36 68.26 68.21\n",
       "    TLONG        (nlat, nlon) float64 323.3 326.9 330.5 ... 317.8 319.3 320.8\n",
       "    ULAT         (nlat, nlon) float64 -78.73 -78.73 -78.73 ... 68.49 68.42 68.4\n",
       "    ULONG        (nlat, nlon) float64 325.1 328.7 332.3 ... 318.7 320.1 321.5\n",
       "    DXT          (nlat, nlon) float64 7.302e+06 7.302e+06 ... 6.129e+06\n",
       "    DYT          (nlat, nlon) float64 1.686e+07 1.686e+07 ... 4.524e+06\n",
       "    TAREA        (nlat, nlon) float64 1.231e+14 1.231e+14 ... 2.773e+13\n",
       "    KMT          (nlat, nlon) int32 0 0 0 0 0 0 0 0 0 0 ... 0 0 0 0 0 0 0 0 0 0\n",
       "    REGION_MASK  (nlat, nlon) int32 0 0 0 0 0 0 0 0 0 0 ... 0 0 0 0 0 0 0 0 0 0\n",
       "    dz           (z_t) float64 1e+03 1e+03 1e+03 ... 2.499e+04 2.5e+04 2.5e+04\n",
       "Attributes:\n",
       "    lateral_dims:       [116, 100]\n",
       "    vertical_dims:      60\n",
       "    vert_grid_file:     /glade/work/kristenk/miniconda/envs/analysis2/lib/pyt...\n",
       "    horiz_grid_fname:   /glade/p/cesmdata/cseg/inputdata/ocn/pop/gx3v7/grid/h...\n",
       "    topography_fname:   /glade/p/cesmdata/cseg/inputdata/ocn/pop/gx3v7/grid/t...\n",
       "    region_mask_fname:  /glade/p/cesmdata/cseg/inputdata/ocn/pop/gx3v7/grid/r...\n",
       "    type:               dipole\n",
       "    title:              POP_gx3v7 grid"
      ]
     },
     "execution_count": 4,
     "metadata": {},
     "output_type": "execute_result"
    }
   ],
   "source": [
    "ds_dst = pop_tools.get_grid(grid_name=dst_grid)\n",
    "ds_dst"
   ]
  },
  {
   "cell_type": "markdown",
   "metadata": {},
   "source": [
    "### Read in CHL"
   ]
  },
  {
   "cell_type": "code",
   "execution_count": 5,
   "metadata": {},
   "outputs": [],
   "source": [
    "file='/glade/work/kristenk/satellite_data/processed/CHL_mean2003to2018_1deg.nc'"
   ]
  },
  {
   "cell_type": "code",
   "execution_count": 6,
   "metadata": {},
   "outputs": [],
   "source": [
    "dsann = xr.open_dataset(file, decode_times=False)\n",
    "#attrs = dsann.attrs"
   ]
  },
  {
   "cell_type": "code",
   "execution_count": 9,
   "metadata": {},
   "outputs": [],
   "source": [
    "dsann = dsann.rename({'z':'CHL'})"
   ]
  },
  {
   "cell_type": "code",
   "execution_count": 12,
   "metadata": {},
   "outputs": [],
   "source": [
    "v='CHL'"
   ]
  },
  {
   "cell_type": "code",
   "execution_count": 13,
   "metadata": {},
   "outputs": [
    {
     "data": {
      "text/plain": [
       "<xarray.Dataset>\n",
       "Dimensions:  (x: 360, y: 180)\n",
       "Coordinates:\n",
       "  * x        (x) float64 -179.5 -178.5 -177.5 -176.5 ... 176.5 177.5 178.5 179.5\n",
       "  * y        (y) float64 -89.5 -88.5 -87.5 -86.5 -85.5 ... 86.5 87.5 88.5 89.5\n",
       "Data variables:\n",
       "    CHL      (y, x) float32 ...\n",
       "Attributes:\n",
       "    Conventions:  COARDS/CF-1.0\n",
       "    title:        data.grd\n",
       "    history:      grdmath data.grd 1 MUL = CHL_mean2003to2018_1deg.nc\n",
       "    GMT_version:  4.5.18 [64-bit]\n",
       "    node_offset:  1"
      ]
     },
     "execution_count": 13,
     "metadata": {},
     "output_type": "execute_result"
    }
   ],
   "source": [
    "dsann"
   ]
  },
  {
   "cell_type": "markdown",
   "metadata": {},
   "source": [
    "### Regrid laterally"
   ]
  },
  {
   "cell_type": "code",
   "execution_count": 15,
   "metadata": {},
   "outputs": [
    {
     "data": {
      "image/png": "[encoded data removed]",
      "text/plain": [
       "<Figure size 432x288 with 2 Axes>"
      ]
     },
     "metadata": {
      "needs_background": "light"
     },
     "output_type": "display_data"
    },
    {
     "data": {
      "image/png": "[encoded data removed]",
      "text/plain": [
       "<Figure size 432x288 with 2 Axes>"
      ]
     },
     "metadata": {
      "needs_background": "light"
     },
     "output_type": "display_data"
    }
   ],
   "source": [
    "dso_lateral = xr.Dataset()\n",
    "\n",
    "dso_lateral[v] = regrid_operator(dsann[v], renormalize=True)\n",
    "\n",
    "dso_lateral = dso_lateral.rename({'x': 'nlon', 'y': 'nlat'})\n",
    "\n",
    "plt.figure()\n",
    "dsann[v].plot()\n",
    "\n",
    "plt.figure()\n",
    "dso_lateral[v].plot();"
   ]
  },
  {
   "cell_type": "code",
   "execution_count": 18,
   "metadata": {},
   "outputs": [
    {
     "data": {
      "text/plain": [
       "<xarray.Dataset>\n",
       "Dimensions:  (nlat: 116, nlon: 100)\n",
       "Dimensions without coordinates: nlat, nlon\n",
       "Data variables:\n",
       "    CHL      (nlat, nlon) float64 nan nan nan nan nan ... nan nan nan nan nan"
      ]
     },
     "execution_count": 18,
     "metadata": {},
     "output_type": "execute_result"
    }
   ],
   "source": [
    "dso_lateral"
   ]
  },
  {
   "cell_type": "markdown",
   "metadata": {},
   "source": [
    "### Get the dataset ready to write out"
   ]
  },
  {
   "cell_type": "code",
   "execution_count": 17,
   "metadata": {},
   "outputs": [
    {
     "data": {
      "text/plain": [
       "<xarray.Dataset>\n",
       "Dimensions:      (nlat: 116, nlon: 100, z_t: 60, z_w: 60, z_w_bot: 60)\n",
       "Coordinates:\n",
       "  * z_t          (z_t) float64 500.0 1.5e+03 2.5e+03 ... 5.125e+05 5.375e+05\n",
       "  * z_w          (z_w) float64 0.0 1e+03 2e+03 3e+03 ... 4.75e+05 5e+05 5.25e+05\n",
       "  * z_w_bot      (z_w_bot) float64 1e+03 2e+03 3e+03 ... 5e+05 5.25e+05 5.5e+05\n",
       "Dimensions without coordinates: nlat, nlon\n",
       "Data variables:\n",
       "    CHL          (nlat, nlon) float64 nan nan nan nan nan ... nan nan nan nan\n",
       "    TLAT         (nlat, nlon) float64 -79.5 -79.5 -79.5 ... 68.36 68.26 68.21\n",
       "    TLONG        (nlat, nlon) float64 323.3 326.9 330.5 ... 317.8 319.3 320.8\n",
       "    ULAT         (nlat, nlon) float64 -78.73 -78.73 -78.73 ... 68.49 68.42 68.4\n",
       "    ULONG        (nlat, nlon) float64 325.1 328.7 332.3 ... 318.7 320.1 321.5\n",
       "    DXT          (nlat, nlon) float64 7.302e+06 7.302e+06 ... 6.129e+06\n",
       "    DYT          (nlat, nlon) float64 1.686e+07 1.686e+07 ... 4.524e+06\n",
       "    TAREA        (nlat, nlon) float64 1.231e+14 1.231e+14 ... 2.773e+13\n",
       "    KMT          (nlat, nlon) int32 0 0 0 0 0 0 0 0 0 0 ... 0 0 0 0 0 0 0 0 0 0\n",
       "    REGION_MASK  (nlat, nlon) int32 0 0 0 0 0 0 0 0 0 0 ... 0 0 0 0 0 0 0 0 0 0\n",
       "    dz           (z_t) float64 1e+03 1e+03 1e+03 ... 2.499e+04 2.5e+04 2.5e+04\n",
       "Attributes:\n",
       "    history:  created by kristen krumhardt on 2020-11-03"
      ]
     },
     "execution_count": 17,
     "metadata": {},
     "output_type": "execute_result"
    }
   ],
   "source": [
    "dso = dso_lateral.copy()\n",
    "\n",
    "dso[v].encoding['_FillValue'] = default_fillvals['f4']\n",
    "dso[v].encoding['dtype'] = np.float32\n",
    "    \n",
    "for v in ds_dst.variables:\n",
    "    dso[v] = ds_dst[v]\n",
    "    \n",
    "for v in dso.variables:\n",
    "    if '_FillValue' not in dso[v].encoding:\n",
    "        dso[v].encoding['_FillValue'] = None\n",
    "    \n",
    "datestamp = datetime.now(timezone.utc).strftime(\"%Y-%m-%d\")\n",
    "dso.attrs['history'] = f'created by kristen krumhardt on {datestamp}'\n",
    "\n",
    "datestamp = date.today().strftime(\"%y%m%d\")\n",
    "dso"
   ]
  },
  {
   "cell_type": "code",
   "execution_count": 25,
   "metadata": {},
   "outputs": [],
   "source": [
    "#!ncdump -h /glade/work/kristenk/WOA_data/regrid_POP/WOA_POPgrid.nc"
   ]
  },
  {
   "cell_type": "code",
   "execution_count": 21,
   "metadata": {},
   "outputs": [],
   "source": [
    "#file_out = f'{config.dirout}/marbl_jan_ic_woa_{dst_grid}.c{datestamp}.nc'\n",
    "file_out = '/glade/work/kristenk/satellite_data/POP_regrid/MODIS_meanCHL2003to2018_mgm3_x3POPgrid.nc'\n",
    "dso.to_netcdf(file_out)"
   ]
  },
  {
   "cell_type": "code",
   "execution_count": null,
   "metadata": {},
   "outputs": [],
   "source": []
  }
 ],
 "metadata": {
  "kernelspec": {
   "display_name": "Python [conda env:miniconda-analysis2]",
   "language": "python",
   "name": "conda-env-miniconda-analysis2-py"
  },
  "language_info": {
   "codemirror_mode": {
    "name": "ipython",
    "version": 3
   },
   "file_extension": ".py",
   "mimetype": "text/x-python",
   "name": "python",
   "nbconvert_exporter": "python",
   "pygments_lexer": "ipython3",
   "version": "3.7.3"
  }
 },
 "nbformat": 4,
 "nbformat_minor": 4
}
