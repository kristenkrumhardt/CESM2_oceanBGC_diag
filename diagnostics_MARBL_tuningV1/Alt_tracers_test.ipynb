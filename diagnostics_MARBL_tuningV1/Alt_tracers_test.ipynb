{
 "cells": [
  {
   "cell_type": "code",
   "execution_count": 1,
   "metadata": {},
   "outputs": [],
   "source": [
    "import warnings\n",
    "warnings.filterwarnings('ignore')\n",
    "%matplotlib inline\n",
    "import os\n",
    "from glob import glob\n",
    "from collections import OrderedDict\n",
    "import xarray as xr\n",
    "import numpy as np\n",
    "import esmlab\n",
    "import matplotlib.pyplot as plt\n",
    "import cartopy\n",
    "import cartopy.crs as ccrs\n",
    "import seawater as sw\n",
    "from seawater.library import T90conv\n",
    "from scipy import stats"
   ]
  },
  {
   "cell_type": "code",
   "execution_count": 2,
   "metadata": {},
   "outputs": [],
   "source": [
    "case = 'cesm22cocco.G1850ECOIAF.T62_g17.002'\n",
    "user = 'kristenk'"
   ]
  },
  {
   "cell_type": "markdown",
   "metadata": {},
   "source": [
    "#### Check on ALT CO2 DIC and ALK tracers, year 4 of 4-year run"
   ]
  },
  {
   "cell_type": "code",
   "execution_count": 3,
   "metadata": {},
   "outputs": [],
   "source": [
    "start_yr=62 #one less than the actual start year since python starts counting at zero\n",
    "num_years=1 #sim years since last parm change\n",
    "endyr=start_yr + num_years "
   ]
  },
  {
   "cell_type": "code",
   "execution_count": 4,
   "metadata": {},
   "outputs": [
    {
     "name": "stdout",
     "output_type": "stream",
     "text": [
      "doing simulation year 62 !\n"
     ]
    }
   ],
   "source": [
    "files = []\n",
    "for year in range(start_yr,endyr):\n",
    "    yr4=\"{:04d}\".format(year)\n",
    "    print('doing simulation year', year, '!')\n",
    "    for month in range(1, 13):\n",
    "    \n",
    "        mo2=\"{:02d}\".format(month)\n",
    "        #files.extend(sorted(glob(f'/glade/scratch/{user}/archive/{case}/ocn/hist/{case}.pop.h.{yr4}-{mo2}.nc')))\n",
    "        files.extend(sorted(glob(f'/glade/scratch/{user}/{case}/run/{case}.pop.h.{yr4}-{mo2}.nc')))"
   ]
  },
  {
   "cell_type": "code",
   "execution_count": 5,
   "metadata": {},
   "outputs": [
    {
     "ename": "OSError",
     "evalue": "no files to open",
     "output_type": "error",
     "traceback": [
      "\u001b[0;31m---------------------------------------------------------------------------\u001b[0m",
      "\u001b[0;31mOSError\u001b[0m                                   Traceback (most recent call last)",
      "\u001b[0;32m<ipython-input-5-d0e49eee9553>\u001b[0m in \u001b[0;36m<module>\u001b[0;34m\u001b[0m\n\u001b[0;32m----> 1\u001b[0;31m \u001b[0mcesm_mon_ds\u001b[0m\u001b[0;34m=\u001b[0m\u001b[0mxr\u001b[0m\u001b[0;34m.\u001b[0m\u001b[0mopen_mfdataset\u001b[0m\u001b[0;34m(\u001b[0m\u001b[0mfiles\u001b[0m\u001b[0;34m,\u001b[0m\u001b[0mdecode_times\u001b[0m\u001b[0;34m=\u001b[0m\u001b[0;32mFalse\u001b[0m\u001b[0;34m,\u001b[0m\u001b[0mdecode_coords\u001b[0m\u001b[0;34m=\u001b[0m\u001b[0;32mFalse\u001b[0m\u001b[0;34m)\u001b[0m\u001b[0;34m\u001b[0m\u001b[0;34m\u001b[0m\u001b[0m\n\u001b[0m",
      "\u001b[0;32m/glade/work/kristenk/miniconda/envs/analysis3/lib/python3.7/site-packages/xarray/backends/api.py\u001b[0m in \u001b[0;36mopen_mfdataset\u001b[0;34m(paths, chunks, concat_dim, compat, preprocess, engine, lock, data_vars, coords, combine, autoclose, parallel, join, **kwargs)\u001b[0m\n\u001b[1;32m    869\u001b[0m \u001b[0;34m\u001b[0m\u001b[0m\n\u001b[1;32m    870\u001b[0m     \u001b[0;32mif\u001b[0m \u001b[0;32mnot\u001b[0m \u001b[0mpaths\u001b[0m\u001b[0;34m:\u001b[0m\u001b[0;34m\u001b[0m\u001b[0;34m\u001b[0m\u001b[0m\n\u001b[0;32m--> 871\u001b[0;31m         \u001b[0;32mraise\u001b[0m \u001b[0mOSError\u001b[0m\u001b[0;34m(\u001b[0m\u001b[0;34m\"no files to open\"\u001b[0m\u001b[0;34m)\u001b[0m\u001b[0;34m\u001b[0m\u001b[0;34m\u001b[0m\u001b[0m\n\u001b[0m\u001b[1;32m    872\u001b[0m \u001b[0;34m\u001b[0m\u001b[0m\n\u001b[1;32m    873\u001b[0m     \u001b[0;31m# If combine='by_coords' then this is unnecessary, but quick.\u001b[0m\u001b[0;34m\u001b[0m\u001b[0;34m\u001b[0m\u001b[0;34m\u001b[0m\u001b[0m\n",
      "\u001b[0;31mOSError\u001b[0m: no files to open"
     ]
    }
   ],
   "source": [
    "cesm_mon_ds=xr.open_mfdataset(files,decode_times=False,decode_coords=False)"
   ]
  },
  {
   "cell_type": "code",
   "execution_count": null,
   "metadata": {},
   "outputs": [],
   "source": [
    "cesm_ann_ds=cesm_mon_ds.mean(dim='time')"
   ]
  },
  {
   "cell_type": "code",
   "execution_count": null,
   "metadata": {},
   "outputs": [],
   "source": [
    "file = '/glade/work/kristenk/WOA_data/regrid_POP/WOA2013_POPgrid.nc' \n",
    "ds_woa = xr.load_dataset(file, decode_times=False, decode_coords=False)\n",
    "ds_woa['z_t'] = cesm_ann_ds.z_t"
   ]
  },
  {
   "cell_type": "code",
   "execution_count": null,
   "metadata": {},
   "outputs": [],
   "source": [
    "lons=ds_woa.TLONG\n",
    "lats=ds_woa.TLAT\n",
    "area=ds_woa.TAREA\n",
    "depths=ds_woa.z_t * 0.01"
   ]
  },
  {
   "cell_type": "code",
   "execution_count": null,
   "metadata": {},
   "outputs": [],
   "source": [
    "fig = plt.figure(figsize=(8,10))\n",
    "\n",
    "ax = fig.add_subplot(3,1,1, projection=ccrs.Robinson(central_longitude=305.0))\n",
    "ax.set_title('ALK surface', fontsize=12)\n",
    "pc=ax.pcolormesh(lons, lats, cesm_ann_ds.ALK.isel(z_t=0), cmap='jet',vmin=2300,vmax=2500,transform=ccrs.PlateCarree())\n",
    "\n",
    "cbar1 = fig.colorbar(pc, ax=ax,extend='both',label='ALK (mmol m$^{-3}$)')\n",
    "\n",
    "ax = fig.add_subplot(3,1,2, projection=ccrs.Robinson(central_longitude=305.0))\n",
    "ax.set_title('ALK_ALT_CO2 surface', fontsize=12)\n",
    "pc=ax.pcolormesh(lons, lats, cesm_ann_ds.ALK_ALT_CO2.isel(z_t=0), cmap='jet',vmin=2300,vmax=2500,transform=ccrs.PlateCarree())\n",
    "\n",
    "cbar1 = fig.colorbar(pc, ax=ax,extend='both',label='ALK ALT CO2 (mmol m$^{-3}$)')\n",
    "\n",
    "ax = fig.add_subplot(3,1,3, projection=ccrs.Robinson(central_longitude=305.0))\n",
    "ax.set_title('DIFF surface', fontsize=12)\n",
    "pc=ax.pcolormesh(lons, lats, cesm_ann_ds.ALK_ALT_CO2.isel(z_t=0) - cesm_ann_ds.ALK.isel(z_t=0),vmin=-50,vmax=50, cmap='bwr',transform=ccrs.PlateCarree())\n",
    "ax.coastlines('10m',linewidth=0.5)\n",
    "cbar1 = fig.colorbar(pc, ax=ax,extend='both',label='difference in alkalinity (mmol m$^{-3}$)')"
   ]
  },
  {
   "cell_type": "code",
   "execution_count": null,
   "metadata": {},
   "outputs": [],
   "source": [
    "fig = plt.figure(figsize=(8,10))\n",
    "\n",
    "ax = fig.add_subplot(3,1,1, projection=ccrs.Robinson(central_longitude=305.0))\n",
    "ax.set_title('ALK, 50-60m depth level', fontsize=12)\n",
    "pc=ax.pcolormesh(lons, lats, cesm_ann_ds.ALK.isel(z_t=5), cmap='jet',vmin=2300,vmax=2500,transform=ccrs.PlateCarree())\n",
    "\n",
    "cbar1 = fig.colorbar(pc, ax=ax,extend='both',label='ALK (mmol m$^{-3}$)')\n",
    "\n",
    "ax = fig.add_subplot(3,1,2, projection=ccrs.Robinson(central_longitude=305.0))\n",
    "ax.set_title('ALK_ALT_CO2, 50-60m depth level', fontsize=12)\n",
    "pc=ax.pcolormesh(lons, lats, cesm_ann_ds.ALK_ALT_CO2.isel(z_t=5), cmap='jet',vmin=2300,vmax=2500,transform=ccrs.PlateCarree())\n",
    "\n",
    "cbar1 = fig.colorbar(pc, ax=ax,extend='both',label='ALK ALT CO2 (mmol m$^{-3}$)')\n",
    "\n",
    "ax = fig.add_subplot(3,1,3, projection=ccrs.Robinson(central_longitude=305.0))\n",
    "ax.set_title('DIFF, 50-60m depth level', fontsize=12)\n",
    "pc=ax.pcolormesh(lons, lats, cesm_ann_ds.ALK_ALT_CO2.isel(z_t=5) - cesm_ann_ds.ALK.isel(z_t=5),vmin=-50,vmax=50, cmap='bwr',transform=ccrs.PlateCarree())\n",
    "ax.coastlines('10m',linewidth=0.5)\n",
    "cbar1 = fig.colorbar(pc, ax=ax,extend='both',label='difference in alkalinity (mmol m$^{-3}$)')"
   ]
  },
  {
   "cell_type": "code",
   "execution_count": null,
   "metadata": {},
   "outputs": [],
   "source": [
    "fig = plt.figure(figsize=(8,10))\n",
    "\n",
    "ax = fig.add_subplot(3,1,1, projection=ccrs.Robinson(central_longitude=305.0))\n",
    "ax.set_title('ALK, 140-150m depth level', fontsize=12)\n",
    "pc=ax.pcolormesh(lons, lats, cesm_ann_ds.ALK.isel(z_t=14), cmap='jet',vmin=2300,vmax=2500,transform=ccrs.PlateCarree())\n",
    "\n",
    "cbar1 = fig.colorbar(pc, ax=ax,extend='both',label='ALK (mmol m$^{-3}$)')\n",
    "\n",
    "ax = fig.add_subplot(3,1,2, projection=ccrs.Robinson(central_longitude=305.0))\n",
    "ax.set_title('ALK_ALT_CO2, 140-150m depth level', fontsize=12)\n",
    "pc=ax.pcolormesh(lons, lats, cesm_ann_ds.ALK_ALT_CO2.isel(z_t=14), cmap='jet',vmin=2300,vmax=2500,transform=ccrs.PlateCarree())\n",
    "\n",
    "cbar1 = fig.colorbar(pc, ax=ax,extend='both',label='ALK ALT CO2 (mmol m$^{-3}$)')\n",
    "\n",
    "ax = fig.add_subplot(3,1,3, projection=ccrs.Robinson(central_longitude=305.0))\n",
    "ax.set_title('DIFF, 140-150m depth level', fontsize=12)\n",
    "pc=ax.pcolormesh(lons, lats, cesm_ann_ds.ALK_ALT_CO2.isel(z_t=14) - cesm_ann_ds.ALK.isel(z_t=14),vmin=-50,vmax=50, cmap='bwr',transform=ccrs.PlateCarree())\n",
    "ax.coastlines('10m',linewidth=0.5)\n",
    "cbar1 = fig.colorbar(pc, ax=ax,extend='both',label='difference in alkalinity (mmol m$^{-3}$)')"
   ]
  },
  {
   "cell_type": "code",
   "execution_count": null,
   "metadata": {},
   "outputs": [],
   "source": [
    "fig = plt.figure(figsize=(8,10))\n",
    "\n",
    "ax = fig.add_subplot(3,1,1, projection=ccrs.Robinson(central_longitude=305.0))\n",
    "ax.set_title('DIC surface', fontsize=12)\n",
    "pc=ax.pcolormesh(lons, lats, cesm_ann_ds.DIC.isel(z_t=0), cmap='gnuplot',vmin=2300,vmax=2500,transform=ccrs.PlateCarree())\n",
    "\n",
    "cbar1 = fig.colorbar(pc, ax=ax,extend='both',label='ALK (mmol m$^{-3}$)')\n",
    "\n",
    "ax = fig.add_subplot(3,1,2, projection=ccrs.Robinson(central_longitude=305.0))\n",
    "ax.set_title('DIC_ALT_CO2 surface', fontsize=12)\n",
    "pc=ax.pcolormesh(lons, lats, cesm_ann_ds.DIC_ALT_CO2.isel(z_t=0), cmap='gnuplot',vmin=2300,vmax=2500,transform=ccrs.PlateCarree())\n",
    "\n",
    "cbar1 = fig.colorbar(pc, ax=ax,extend='both',label='ALK ALT CO2 (mmol m$^{-3}$)')\n",
    "\n",
    "ax = fig.add_subplot(3,1,3, projection=ccrs.Robinson(central_longitude=305.0))\n",
    "ax.set_title('DIFF surface', fontsize=12)\n",
    "pc=ax.pcolormesh(lons, lats, cesm_ann_ds.DIC_ALT_CO2.isel(z_t=0) - cesm_ann_ds.ALK.isel(z_t=0),vmin=-50,vmax=50, cmap='bwr',transform=ccrs.PlateCarree())\n",
    "ax.coastlines('10m',linewidth=0.5)\n",
    "cbar1 = fig.colorbar(pc, ax=ax,extend='both',label='difference in DIC (mmol m$^{-3}$)')"
   ]
  },
  {
   "cell_type": "code",
   "execution_count": null,
   "metadata": {},
   "outputs": [],
   "source": []
  },
  {
   "cell_type": "code",
   "execution_count": null,
   "metadata": {},
   "outputs": [],
   "source": []
  },
  {
   "cell_type": "code",
   "execution_count": null,
   "metadata": {},
   "outputs": [],
   "source": []
  }
 ],
 "metadata": {
  "kernelspec": {
   "display_name": "Python [conda env:analysis3]",
   "language": "python",
   "name": "conda-env-analysis3-py"
  },
  "language_info": {
   "codemirror_mode": {
    "name": "ipython",
    "version": 3
   },
   "file_extension": ".py",
   "mimetype": "text/x-python",
   "name": "python",
   "nbconvert_exporter": "python",
   "pygments_lexer": "ipython3",
   "version": "3.7.3"
  }
 },
 "nbformat": 4,
 "nbformat_minor": 4
}
