{
 "cells": [
  {
   "cell_type": "code",
   "execution_count": 1,
   "metadata": {},
   "outputs": [
    {
     "name": "stderr",
     "output_type": "stream",
     "text": [
      "Cannot write to data cache folder '/glade/p/cesmdata/cseg'. Will not be able to download remote data files. Use environment variable 'CESMDATAROOT' to specify another directory.\n"
     ]
    }
   ],
   "source": [
    "import warnings\n",
    "warnings.filterwarnings('ignore')\n",
    "%matplotlib inline\n",
    "import os\n",
    "from glob import glob\n",
    "from collections import OrderedDict\n",
    "import xarray as xr\n",
    "import numpy as np\n",
    "import esmlab\n",
    "import matplotlib.pyplot as plt\n",
    "import matplotlib.gridspec as gridspec\n",
    "import cartopy\n",
    "import cartopy.crs as ccrs\n",
    "import seawater as sw\n",
    "from seawater.library import T90conv\n",
    "from scipy import stats\n",
    "import pop_tools \n",
    "\n",
    "from pint import UnitRegistry\n",
    "import ncar_jobqueue\n",
    "from dask.distributed import Client\n",
    "\n",
    "units = UnitRegistry()\n",
    "units.define('micromoles_per_kilogram = umol / kg') # used in WOA datasets"
   ]
  },
  {
   "cell_type": "code",
   "execution_count": 2,
   "metadata": {},
   "outputs": [
    {
     "data": {
      "text/html": [
       "<table style=\"border: 2px solid white;\">\n",
       "<tr>\n",
       "<td style=\"vertical-align: top; border: 0px solid white\">\n",
       "<h3 style=\"text-align: left;\">Client</h3>\n",
       "<ul style=\"text-align: left; list-style: none; margin: 0; padding: 0;\">\n",
       "  <li><b>Scheduler: </b>tcp://10.12.205.35:35831</li>\n",
       "  <li><b>Dashboard: </b><a href='https://jupyterhub.ucar.edu/dav/user/kristenk/proxy/8787/status' target='_blank'>https://jupyterhub.ucar.edu/dav/user/kristenk/proxy/8787/status</a>\n",
       "</ul>\n",
       "</td>\n",
       "<td style=\"vertical-align: top; border: 0px solid white\">\n",
       "<h3 style=\"text-align: left;\">Cluster</h3>\n",
       "<ul style=\"text-align: left; list-style:none; margin: 0; padding: 0;\">\n",
       "  <li><b>Workers: </b>0</li>\n",
       "  <li><b>Cores: </b>0</li>\n",
       "  <li><b>Memory: </b>0 B</li>\n",
       "</ul>\n",
       "</td>\n",
       "</tr>\n",
       "</table>"
      ],
      "text/plain": [
       "<Client: 'tcp://10.12.205.35:35831' processes=0 threads=0, memory=0 B>"
      ]
     },
     "execution_count": 2,
     "metadata": {},
     "output_type": "execute_result"
    }
   ],
   "source": [
    "cluster = ncar_jobqueue.NCARCluster(project='ncgd0011')\n",
    "cluster.adapt(minimum_jobs=0, maximum_jobs=30)\n",
    "client = Client(cluster)\n",
    "client"
   ]
  },
  {
   "cell_type": "code",
   "execution_count": 73,
   "metadata": {},
   "outputs": [],
   "source": [
    "case = 'g.e22b05.G1850ECOIAF_JRA.TL319_g17.002'\n",
    "user = 'kristenk'\n",
    "path = '/glade/scratch/kristenk/archive/' + case + '/ocn/proc/tseries/month_1'\n",
    "#variables = ['O2','SiO3','POC_FLUX_100m']\n",
    "#variables = ['photoC_diat_zint','photoC_diaz_zint','photoC_sp_zint','photoC_TOT_zint']\n",
    "#variables = ['photoC_cocco_zint']\n",
    "#variables = ['NO3', 'PO4']\n",
    "variables = ['FG_CO2','CaCO3_PROD_zint']"
   ]
  },
  {
   "cell_type": "code",
   "execution_count": 74,
   "metadata": {},
   "outputs": [],
   "source": [
    "# IAFm='000101-006112'\n",
    "# IAFy='0001-0061'\n",
    "\n",
    "IAFm='006201-012212'\n",
    "IAFy='0062-0122'\n",
    "\n",
    "# IAFm='012301-018312'\n",
    "# IAFy='0123-0183'\n",
    "\n",
    "# IAFm='018401-024412'\n",
    "# IAFy='0184-0244'\n"
   ]
  },
  {
   "cell_type": "code",
   "execution_count": null,
   "metadata": {},
   "outputs": [
    {
     "name": "stdout",
     "output_type": "stream",
     "text": [
      "reading g.e22b05.G1850ECOIAF_JRA.TL319_g17.002\n",
      "FG_CO2\n"
     ]
    }
   ],
   "source": [
    "%%time\n",
    "ds_list = []\n",
    "print(f'reading {case}')\n",
    "ds = xr.Dataset()\n",
    "\n",
    "for v in variables:\n",
    "    \n",
    "    print(v)\n",
    "    \n",
    "    files = sorted(glob(f'{path}/{case}.pop.h.{v}.{IAFm}.nc'))     \n",
    "  \n",
    "    dsv=xr.open_mfdataset(files, data_vars=\"minimal\", coords='minimal', compat=\"override\", parallel=True, concat_dim=\"time\",\n",
    "                       drop_variables=[\"transport_components\", \"transport_regions\"], decode_times=True, chunks={'z_t' : 1})\n",
    "\n",
    "    ds = xr.merge((ds, dsv))\n",
    "    ds_list.append(ds)"
   ]
  },
  {
   "cell_type": "code",
   "execution_count": null,
   "metadata": {},
   "outputs": [],
   "source": [
    "ds.time_bound"
   ]
  },
  {
   "cell_type": "code",
   "execution_count": null,
   "metadata": {},
   "outputs": [],
   "source": [
    "coords = {'x':'TLONG','y':'TLAT'}\n",
    "keepthese = ['z_t','time_bound','TAREA','time'] + variables\n",
    "keep_vars = keepthese +list(coords.values())+['dz','KMT']"
   ]
  },
  {
   "cell_type": "code",
   "execution_count": null,
   "metadata": {},
   "outputs": [],
   "source": [
    "ds = ds.drop([v for v in ds.variables if v not in keep_vars])"
   ]
  },
  {
   "cell_type": "code",
   "execution_count": null,
   "metadata": {},
   "outputs": [],
   "source": [
    "#fix time dimension so it's a mean of the timebounds\n",
    "ds[\"time\"] = ds.time_bound.compute().mean(dim=\"d2\")"
   ]
  },
  {
   "cell_type": "code",
   "execution_count": null,
   "metadata": {},
   "outputs": [],
   "source": [
    "%%time\n",
    "ds = ds.resample({'time':'A'}).mean(dim='time').compute()"
   ]
  },
  {
   "cell_type": "code",
   "execution_count": null,
   "metadata": {},
   "outputs": [],
   "source": [
    "ds"
   ]
  },
  {
   "cell_type": "code",
   "execution_count": null,
   "metadata": {},
   "outputs": [],
   "source": [
    "for v in variables:\n",
    "    \n",
    "    keep_vars = ['z_t','time_bound','TAREA','time','dz','KMT', v]  + list(coords.values())\n",
    "    \n",
    "    ds_out = ds.drop([v for v in ds.variables if v not in keep_vars])\n",
    "    \n",
    "    outfile='/glade/scratch/kristenk/archive/'+case+'/ocn/proc/tseries/year_1/'+case+'.annual.'+v+'.'+IAFy+'.nc'\n",
    "    ds_out.to_netcdf(outfile)"
   ]
  },
  {
   "cell_type": "code",
   "execution_count": null,
   "metadata": {},
   "outputs": [],
   "source": []
  },
  {
   "cell_type": "code",
   "execution_count": null,
   "metadata": {},
   "outputs": [],
   "source": []
  },
  {
   "cell_type": "code",
   "execution_count": null,
   "metadata": {},
   "outputs": [],
   "source": []
  },
  {
   "cell_type": "code",
   "execution_count": null,
   "metadata": {},
   "outputs": [],
   "source": []
  },
  {
   "cell_type": "code",
   "execution_count": null,
   "metadata": {},
   "outputs": [],
   "source": []
  }
 ],
 "metadata": {
  "kernelspec": {
   "display_name": "Python [conda env:miniconda-besome]",
   "language": "python",
   "name": "conda-env-miniconda-besome-py"
  },
  "language_info": {
   "codemirror_mode": {
    "name": "ipython",
    "version": 3
   },
   "file_extension": ".py",
   "mimetype": "text/x-python",
   "name": "python",
   "nbconvert_exporter": "python",
   "pygments_lexer": "ipython3",
   "version": "3.7.6"
  }
 },
 "nbformat": 4,
 "nbformat_minor": 4
}
